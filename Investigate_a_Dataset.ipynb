{
 "cells": [
  {
   "cell_type": "markdown",
   "metadata": {},
   "source": [
    "# Introduction:\n",
    "This project is based on a dataset consisting of movie ratings and other attributes such as financials and popularity. We will investigate this dataset to see what are the most important variables that contribute to the success of a movie."
   ]
  },
  {
   "cell_type": "code",
   "execution_count": 1,
   "metadata": {},
   "outputs": [],
   "source": [
    "#install packages for project\n",
    "import pandas as pd\n",
    "import matplotlib.pyplot as plt\n",
    "from datetime import datetime as dt\n",
    "import numpy as np\n",
    "%matplotlib inline\n",
    "from matplotlib.pyplot import figure"
   ]
  },
  {
   "cell_type": "markdown",
   "metadata": {},
   "source": [
    "# Data Wrangling\n",
    "\n",
    "We read the document and then continue to clean the document. This includes rounding up the voting to two decimal places and converting the financials to million GBP."
   ]
  },
  {
   "cell_type": "code",
   "execution_count": 2,
   "metadata": {},
   "outputs": [
    {
     "name": "stdout",
     "output_type": "stream",
     "text": [
      "(10866, 21)\n"
     ]
    },
    {
     "data": {
      "text/html": [
       "<div>\n",
       "<style scoped>\n",
       "    .dataframe tbody tr th:only-of-type {\n",
       "        vertical-align: middle;\n",
       "    }\n",
       "\n",
       "    .dataframe tbody tr th {\n",
       "        vertical-align: top;\n",
       "    }\n",
       "\n",
       "    .dataframe thead th {\n",
       "        text-align: right;\n",
       "    }\n",
       "</style>\n",
       "<table border=\"1\" class=\"dataframe\">\n",
       "  <thead>\n",
       "    <tr style=\"text-align: right;\">\n",
       "      <th></th>\n",
       "      <th>id</th>\n",
       "      <th>imdb_id</th>\n",
       "      <th>popularity</th>\n",
       "      <th>budget</th>\n",
       "      <th>revenue</th>\n",
       "      <th>original_title</th>\n",
       "      <th>cast</th>\n",
       "      <th>homepage</th>\n",
       "      <th>director</th>\n",
       "      <th>tagline</th>\n",
       "      <th>...</th>\n",
       "      <th>overview</th>\n",
       "      <th>runtime</th>\n",
       "      <th>genres</th>\n",
       "      <th>production_companies</th>\n",
       "      <th>release_date</th>\n",
       "      <th>vote_count</th>\n",
       "      <th>vote_average</th>\n",
       "      <th>release_year</th>\n",
       "      <th>budget_adj</th>\n",
       "      <th>revenue_adj</th>\n",
       "    </tr>\n",
       "  </thead>\n",
       "  <tbody>\n",
       "    <tr>\n",
       "      <th>0</th>\n",
       "      <td>135397</td>\n",
       "      <td>tt0369610</td>\n",
       "      <td>32.985763</td>\n",
       "      <td>150000000</td>\n",
       "      <td>1513528810</td>\n",
       "      <td>Jurassic World</td>\n",
       "      <td>Chris Pratt|Bryce Dallas Howard|Irrfan Khan|Vi...</td>\n",
       "      <td>http://www.jurassicworld.com/</td>\n",
       "      <td>Colin Trevorrow</td>\n",
       "      <td>The park is open.</td>\n",
       "      <td>...</td>\n",
       "      <td>Twenty-two years after the events of Jurassic ...</td>\n",
       "      <td>124</td>\n",
       "      <td>Action|Adventure|Science Fiction|Thriller</td>\n",
       "      <td>Universal Studios|Amblin Entertainment|Legenda...</td>\n",
       "      <td>6/9/15</td>\n",
       "      <td>5562</td>\n",
       "      <td>6.5</td>\n",
       "      <td>2015</td>\n",
       "      <td>1.379999e+08</td>\n",
       "      <td>1.392446e+09</td>\n",
       "    </tr>\n",
       "  </tbody>\n",
       "</table>\n",
       "<p>1 rows × 21 columns</p>\n",
       "</div>"
      ],
      "text/plain": [
       "       id    imdb_id  popularity     budget     revenue  original_title  \\\n",
       "0  135397  tt0369610   32.985763  150000000  1513528810  Jurassic World   \n",
       "\n",
       "                                                cast  \\\n",
       "0  Chris Pratt|Bryce Dallas Howard|Irrfan Khan|Vi...   \n",
       "\n",
       "                        homepage         director            tagline  \\\n",
       "0  http://www.jurassicworld.com/  Colin Trevorrow  The park is open.   \n",
       "\n",
       "       ...                                                overview runtime  \\\n",
       "0      ...       Twenty-two years after the events of Jurassic ...     124   \n",
       "\n",
       "                                      genres  \\\n",
       "0  Action|Adventure|Science Fiction|Thriller   \n",
       "\n",
       "                                production_companies release_date vote_count  \\\n",
       "0  Universal Studios|Amblin Entertainment|Legenda...       6/9/15       5562   \n",
       "\n",
       "   vote_average  release_year    budget_adj   revenue_adj  \n",
       "0           6.5          2015  1.379999e+08  1.392446e+09  \n",
       "\n",
       "[1 rows x 21 columns]"
      ]
     },
     "execution_count": 2,
     "metadata": {},
     "output_type": "execute_result"
    }
   ],
   "source": [
    "#read document\n",
    "movies = pd.read_csv('movies.csv')\n",
    "print(movies.shape)\n",
    "movies.head(1)"
   ]
  },
  {
   "cell_type": "code",
   "execution_count": 3,
   "metadata": {},
   "outputs": [
    {
     "name": "stdout",
     "output_type": "stream",
     "text": [
      "(10866, 7)\n",
      "(10843, 7)\n"
     ]
    },
    {
     "data": {
      "text/plain": [
       "(3855, 7)"
      ]
     },
     "execution_count": 3,
     "metadata": {},
     "output_type": "execute_result"
    }
   ],
   "source": [
    "#only keep columns that we need for analysis\n",
    "movies = movies.filter(items=['popularity','original_title','genres','release_date','vote_average','budget_adj','revenue_adj'])\n",
    "print(movies.shape)\n",
    "movies = movies.dropna()\n",
    "print(movies.shape)\n",
    "\n",
    "#drop rows that have atleast one zero in\n",
    "\n",
    "movies = movies[(movies!=0).all(1)]\n",
    "movies.shape"
   ]
  },
  {
   "cell_type": "code",
   "execution_count": 40,
   "metadata": {},
   "outputs": [
    {
     "name": "stdout",
     "output_type": "stream",
     "text": [
      "(3855, 7)\n"
     ]
    },
    {
     "data": {
      "text/html": [
       "<div>\n",
       "<style scoped>\n",
       "    .dataframe tbody tr th:only-of-type {\n",
       "        vertical-align: middle;\n",
       "    }\n",
       "\n",
       "    .dataframe tbody tr th {\n",
       "        vertical-align: top;\n",
       "    }\n",
       "\n",
       "    .dataframe thead th {\n",
       "        text-align: right;\n",
       "    }\n",
       "</style>\n",
       "<table border=\"1\" class=\"dataframe\">\n",
       "  <thead>\n",
       "    <tr style=\"text-align: right;\">\n",
       "      <th></th>\n",
       "      <th>popularity</th>\n",
       "      <th>original_title</th>\n",
       "      <th>genres</th>\n",
       "      <th>release_date</th>\n",
       "      <th>vote_average</th>\n",
       "      <th>budget_adj</th>\n",
       "      <th>revenue_adj</th>\n",
       "    </tr>\n",
       "  </thead>\n",
       "  <tbody>\n",
       "    <tr>\n",
       "      <th>0</th>\n",
       "      <td>32.99</td>\n",
       "      <td>Jurassic World</td>\n",
       "      <td>Action</td>\n",
       "      <td>6/9/15</td>\n",
       "      <td>6.5</td>\n",
       "      <td>138.0</td>\n",
       "      <td>1392.0</td>\n",
       "    </tr>\n",
       "  </tbody>\n",
       "</table>\n",
       "</div>"
      ],
      "text/plain": [
       "   popularity  original_title  genres release_date  vote_average  budget_adj  \\\n",
       "0       32.99  Jurassic World  Action       6/9/15           6.5       138.0   \n",
       "\n",
       "   revenue_adj  \n",
       "0       1392.0  "
      ]
     },
     "execution_count": 40,
     "metadata": {},
     "output_type": "execute_result"
    }
   ],
   "source": [
    "#format the table, round popularity, make money into millions for easier read, split genre into different columns\n",
    "movies['popularity'] = movies['popularity'].round(2)\n",
    "movies['budget_adj'] = round(movies['budget_adj'] / 1000000)\n",
    "movies['revenue_adj'] = round(movies['revenue_adj'] / 1000000)\n",
    "#select the first genre as the primary genre\n",
    "movies[\"genres\"]= movies[\"genres\"].str.split(\"|\", n = 1, expand = True)\n",
    "print(movies.shape)\n",
    "movies.head(1)"
   ]
  },
  {
   "cell_type": "markdown",
   "metadata": {},
   "source": [
    "#### Steps taken to clean data:\n",
    "\n",
    "1. Filter out the columns not needed for analysis. This took away 14 columns and helped in visualising the data when printing headers in the subsequent sections\n",
    "2. Drop nas. there weren't a lot of NA's as there were 0's present in some columns \n",
    "3. Removed rows that had 0. I did this to keep the dataset consistent for all the analaysis rather than taking zero's out from various columns for the different questions.  \n",
    "4. Rounded the popularity column to make it cleaner and more readable\n",
    "5. Changed scaling of budget and revenue columns to millions.\n",
    "6. Split the genres column and only kept the 'primary' genre. This assumed that the first genre in the list is primary."
   ]
  },
  {
   "cell_type": "markdown",
   "metadata": {},
   "source": [
    "# Exploratory Data Analysis\n",
    "\n",
    "In this section we till try to dig into the data and see what influences movie popularity, and what genre has been the most popular over the years."
   ]
  },
  {
   "cell_type": "markdown",
   "metadata": {},
   "source": [
    "### Research Question 1 : Is there a link between budget and revenue?"
   ]
  },
  {
   "cell_type": "code",
   "execution_count": 56,
   "metadata": {},
   "outputs": [
    {
     "data": {
      "text/plain": [
       "Text(0.5,1,'Budget vs revenue')"
      ]
     },
     "execution_count": 56,
     "metadata": {},
     "output_type": "execute_result"
    },
    {
     "data": {
      "image/png": "[encoded data removed]",
      "text/plain": [
       "<matplotlib.figure.Figure at 0x7f46a35bc6a0>"
      ]
     },
     "metadata": {
      "needs_background": "light"
     },
     "output_type": "display_data"
    }
   ],
   "source": [
    "#Find the link between budget and revenue with a scatter plot\n",
    "#I delete the 0 value rows here as we don't mind 0's in these columns for Q2 and Q3\n",
    "plt.rcParams['figure.figsize'] = [6, 5]\n",
    "plt.scatter(movies['budget_adj'],movies['revenue_adj'])\n",
    "plt.xlim(0,200)\n",
    "plt.ylim(0, 1500)\n",
    "plt.xlabel(\"Budget\", fontsize = 15)\n",
    "plt.ylabel(\"Revenue\", fontsize = 15)\n",
    "plt.title('Budget vs revenue', fontsize = 18)"
   ]
  },
  {
   "cell_type": "markdown",
   "metadata": {},
   "source": [
    "The graph shows us that there is no clear correlation between budget and revenue."
   ]
  },
  {
   "cell_type": "code",
   "execution_count": 58,
   "metadata": {},
   "outputs": [
    {
     "data": {
      "text/plain": [
       "Text(0.5,1,'Budget')"
      ]
     },
     "execution_count": 58,
     "metadata": {},
     "output_type": "execute_result"
    },
    {
     "data": {
      "image/png": "[encoded data removed]",
      "text/plain": [
       "<matplotlib.figure.Figure at 0x7f46a34fedd8>"
      ]
     },
     "metadata": {
      "needs_background": "light"
     },
     "output_type": "display_data"
    }
   ],
   "source": [
    "#we can check the the distribution of movie budgets\n",
    "plt.rcParams['figure.figsize'] = [6, 5]\n",
    "plt.hist(movies['budget_adj'])\n",
    "plt.xlabel(\"Budget (£m)\",fontsize = 15)\n",
    "plt.title('Budget',fontsize = 18)"
   ]
  },
  {
   "cell_type": "markdown",
   "metadata": {},
   "source": [
    "Most of the movies have a budget less than 100m"
   ]
  },
  {
   "cell_type": "markdown",
   "metadata": {},
   "source": [
    "### Research Question 2 : Is the vote average influenced by when the movie was released?"
   ]
  },
  {
   "cell_type": "code",
   "execution_count": 43,
   "metadata": {
    "scrolled": true
   },
   "outputs": [
    {
     "name": "stderr",
     "output_type": "stream",
     "text": [
      "/opt/conda/lib/python3.6/site-packages/ipykernel_launcher.py:31: SettingWithCopyWarning: \n",
      "A value is trying to be set on a copy of a slice from a DataFrame.\n",
      "Try using .loc[row_indexer,col_indexer] = value instead\n",
      "\n",
      "See the caveats in the documentation: http://pandas.pydata.org/pandas-docs/stable/indexing.html#indexing-view-versus-copy\n",
      "/opt/conda/lib/python3.6/site-packages/ipykernel_launcher.py:32: SettingWithCopyWarning: \n",
      "A value is trying to be set on a copy of a slice from a DataFrame.\n",
      "Try using .loc[row_indexer,col_indexer] = value instead\n",
      "\n",
      "See the caveats in the documentation: http://pandas.pydata.org/pandas-docs/stable/indexing.html#indexing-view-versus-copy\n"
     ]
    },
    {
     "data": {
      "text/html": [
       "<div>\n",
       "<style scoped>\n",
       "    .dataframe tbody tr th:only-of-type {\n",
       "        vertical-align: middle;\n",
       "    }\n",
       "\n",
       "    .dataframe tbody tr th {\n",
       "        vertical-align: top;\n",
       "    }\n",
       "\n",
       "    .dataframe thead th {\n",
       "        text-align: right;\n",
       "    }\n",
       "</style>\n",
       "<table border=\"1\" class=\"dataframe\">\n",
       "  <thead>\n",
       "    <tr style=\"text-align: right;\">\n",
       "      <th></th>\n",
       "      <th>month</th>\n",
       "      <th>vote_mean</th>\n",
       "    </tr>\n",
       "    <tr>\n",
       "      <th>month_index</th>\n",
       "      <th></th>\n",
       "      <th></th>\n",
       "    </tr>\n",
       "  </thead>\n",
       "  <tbody>\n",
       "    <tr>\n",
       "      <th>1</th>\n",
       "      <td>January</td>\n",
       "      <td>5.920444</td>\n",
       "    </tr>\n",
       "    <tr>\n",
       "      <th>2</th>\n",
       "      <td>February</td>\n",
       "      <td>6.077043</td>\n",
       "    </tr>\n",
       "    <tr>\n",
       "      <th>3</th>\n",
       "      <td>March</td>\n",
       "      <td>6.078571</td>\n",
       "    </tr>\n",
       "    <tr>\n",
       "      <th>4</th>\n",
       "      <td>April</td>\n",
       "      <td>6.051311</td>\n",
       "    </tr>\n",
       "    <tr>\n",
       "      <th>5</th>\n",
       "      <td>May</td>\n",
       "      <td>6.257045</td>\n",
       "    </tr>\n",
       "  </tbody>\n",
       "</table>\n",
       "</div>"
      ],
      "text/plain": [
       "                month  vote_mean\n",
       "month_index                     \n",
       "1             January   5.920444\n",
       "2            February   6.077043\n",
       "3               March   6.078571\n",
       "4               April   6.051311\n",
       "5                 May   6.257045"
      ]
     },
     "execution_count": 43,
     "metadata": {},
     "output_type": "execute_result"
    }
   ],
   "source": [
    "#This is the method I used originally but was quite inefficient, so I redid this.\n",
    "\n",
    "# q1 = movies[['release_date','vote_average']]\n",
    "# q1['release_date'] = pd.to_datetime(q1['release_date'],format=\"%m/%d/%y\")\n",
    "# q1['month']  = q1['release_date'].dt.month\n",
    "\n",
    "# #take averages of month\n",
    "# january = q1[q1['month']==1].mean().astype(float)\n",
    "# february = q1[q1['month']==2].mean().astype(float)\n",
    "# march = q1[q1['month']==3].mean().astype(float)\n",
    "# april = q1[q1['month']==4].mean().astype(float)\n",
    "# may = q1[q1['month']==5].mean().astype(float)\n",
    "# june = q1[q1['month']==6].mean().astype(float)\n",
    "# july = q1[q1['month']==7].mean().astype(float)\n",
    "# august = q1[q1['month']==8].mean().astype(float)\n",
    "# september = q1[q1['month']==9].mean().astype(float)\n",
    "# october = q1[q1['month']==10].mean().astype(float)\n",
    "# november = q1[q1['month']==11].mean().astype(float)\n",
    "# december = q1[q1['month']==12].mean().astype(float)\n",
    "\n",
    "#create new dataframe comprising of mean and the month\n",
    "# vote_months = pd.DataFrame({'January': january, 'February' : february, 'March':march,'April':april, 'May':may,\n",
    "#                             'June':june,'July':july,'August':august,'September':september,\n",
    "#                             'October':october, 'November':november, 'December':december})\n",
    "\n",
    "#The method below is more efficient\n",
    "\n",
    "vote_months = movies[['release_date','vote_average']]\n",
    "\n",
    "#Get the month name after converting date to datetime\n",
    "vote_months['release_date'] = pd.to_datetime(vote_months['release_date'],format=\"%m/%d/%y\")\n",
    "vote_months['month']  = vote_months['release_date'].dt.month_name()\n",
    "\n",
    "#drop vote_average == 0(null)\n",
    "vote_months = vote_months[vote_months['vote_average'] != 0]\n",
    "\n",
    "#drop the release date column\n",
    "vote_months = vote_months.drop(['release_date'],axis=1)\n",
    "\n",
    "#add mean column and delete the duplicate months\n",
    "vote_months['vote_mean'] = vote_months.groupby('month')[\"vote_average\"].transform('mean')\n",
    "vote_months = vote_months.drop_duplicates(['month'],keep = 'first')\n",
    "vote_months['month_index'] = pd.DatetimeIndex(pd.to_datetime(vote_months['month'], format='%B')).month\n",
    "\n",
    "#add index\n",
    "vote_months = vote_months.set_index('month_index').sort_index()\n",
    "vote_months = vote_months.filter(items=['month','vote_mean'])\n",
    "vote_months.head()"
   ]
  },
  {
   "cell_type": "markdown",
   "metadata": {},
   "source": [
    "We can see that the movies released in december have the highest rating, and the lowest are in January. This also ties in with the idea of 'Oscar Season' which suggests that studios invest heavily from end of november to december in productions. "
   ]
  },
  {
   "cell_type": "code",
   "execution_count": 60,
   "metadata": {},
   "outputs": [
    {
     "data": {
      "text/plain": [
       "(5.7999999999999998, 6.5)"
      ]
     },
     "execution_count": 60,
     "metadata": {},
     "output_type": "execute_result"
    },
    {
     "data": {
      "image/png": "[encoded data removed]",
      "text/plain": [
       "<matplotlib.figure.Figure at 0x7f46a33dea20>"
      ]
     },
     "metadata": {
      "needs_background": "light"
     },
     "output_type": "display_data"
    }
   ],
   "source": [
    "#Create bar chaart to show the voting averages over the months\n",
    "vote_months.plot(kind = 'bar')\n",
    "plt.xlabel('month',fontsize = 15)\n",
    "plt.title('Average votes by release month',fontsize = 18)\n",
    "plt.ylabel('vote_average',fontsize = 15)\n",
    "plt.ylim(bottom = 5.8)\n",
    "plt.ylim(top = 6.5)"
   ]
  },
  {
   "cell_type": "markdown",
   "metadata": {},
   "source": [
    "The data shows us that movies released in December tend to have the highest voting average. This could possible be due to the oscar season, however we cannot say that for sure by looking at the data."
   ]
  },
  {
   "cell_type": "markdown",
   "metadata": {},
   "source": [
    "### Research Question 3: what genres are most popular, and what has been the popular genre in the 20 years?"
   ]
  },
  {
   "cell_type": "code",
   "execution_count": 46,
   "metadata": {},
   "outputs": [
    {
     "data": {
      "text/html": [
       "<div>\n",
       "<style scoped>\n",
       "    .dataframe tbody tr th:only-of-type {\n",
       "        vertical-align: middle;\n",
       "    }\n",
       "\n",
       "    .dataframe tbody tr th {\n",
       "        vertical-align: top;\n",
       "    }\n",
       "\n",
       "    .dataframe thead th {\n",
       "        text-align: right;\n",
       "    }\n",
       "</style>\n",
       "<table border=\"1\" class=\"dataframe\">\n",
       "  <thead>\n",
       "    <tr style=\"text-align: right;\">\n",
       "      <th></th>\n",
       "      <th>popularity</th>\n",
       "      <th>original_title</th>\n",
       "      <th>genres</th>\n",
       "      <th>release_date</th>\n",
       "      <th>vote_average</th>\n",
       "      <th>budget_adj</th>\n",
       "      <th>revenue_adj</th>\n",
       "    </tr>\n",
       "  </thead>\n",
       "  <tbody>\n",
       "    <tr>\n",
       "      <th>0</th>\n",
       "      <td>32.99</td>\n",
       "      <td>Jurassic World</td>\n",
       "      <td>Action</td>\n",
       "      <td>6/9/15</td>\n",
       "      <td>6.5</td>\n",
       "      <td>138.0</td>\n",
       "      <td>1392.0</td>\n",
       "    </tr>\n",
       "    <tr>\n",
       "      <th>1</th>\n",
       "      <td>28.42</td>\n",
       "      <td>Mad Max: Fury Road</td>\n",
       "      <td>Action</td>\n",
       "      <td>5/13/15</td>\n",
       "      <td>7.1</td>\n",
       "      <td>138.0</td>\n",
       "      <td>348.0</td>\n",
       "    </tr>\n",
       "  </tbody>\n",
       "</table>\n",
       "</div>"
      ],
      "text/plain": [
       "   popularity      original_title  genres release_date  vote_average  \\\n",
       "0       32.99      Jurassic World  Action       6/9/15           6.5   \n",
       "1       28.42  Mad Max: Fury Road  Action      5/13/15           7.1   \n",
       "\n",
       "   budget_adj  revenue_adj  \n",
       "0       138.0       1392.0  \n",
       "1       138.0        348.0  "
      ]
     },
     "execution_count": 46,
     "metadata": {},
     "output_type": "execute_result"
    }
   ],
   "source": [
    "movies.head(2)"
   ]
  },
  {
   "cell_type": "code",
   "execution_count": 47,
   "metadata": {},
   "outputs": [
    {
     "name": "stdout",
     "output_type": "stream",
     "text": [
      "2015\n"
     ]
    }
   ],
   "source": [
    "#Create a new dataframe, format date.\n",
    "genre_df = movies.filter(items = ['genres','release_date','popularity'])\n",
    "genre_df['popularity'] = genre_df['popularity'].astype(int)\n",
    "genre_df['release_date'] = pd.to_datetime(genre_df['release_date'],format=\"%m/%d/%y\")\n",
    "genre_df['release_date'] = genre_df['release_date'].dt.year\n",
    "year = []\n",
    "for x in genre_df['release_date']:\n",
    "    if x >2016:\n",
    "        x = x-100\n",
    "    else:\n",
    "        x = x\n",
    "    year.append(x)\n",
    "genre_df['release_date'] = year\n",
    "genre_df = genre_df[genre_df.release_date >1995]\n",
    "print(max(genre_df['release_date']))\n",
    "\n",
    "#drop null values\n",
    "genre_df = genre_df[genre_df['popularity'] != 0]"
   ]
  },
  {
   "cell_type": "code",
   "execution_count": 48,
   "metadata": {},
   "outputs": [
    {
     "data": {
      "text/html": [
       "<div>\n",
       "<style scoped>\n",
       "    .dataframe tbody tr th:only-of-type {\n",
       "        vertical-align: middle;\n",
       "    }\n",
       "\n",
       "    .dataframe tbody tr th {\n",
       "        vertical-align: top;\n",
       "    }\n",
       "\n",
       "    .dataframe thead tr th {\n",
       "        text-align: left;\n",
       "    }\n",
       "\n",
       "    .dataframe thead tr:last-of-type th {\n",
       "        text-align: right;\n",
       "    }\n",
       "</style>\n",
       "<table border=\"1\" class=\"dataframe\">\n",
       "  <thead>\n",
       "    <tr>\n",
       "      <th></th>\n",
       "      <th></th>\n",
       "      <th>mean</th>\n",
       "    </tr>\n",
       "    <tr>\n",
       "      <th></th>\n",
       "      <th></th>\n",
       "      <th>popularity</th>\n",
       "    </tr>\n",
       "    <tr>\n",
       "      <th>genres</th>\n",
       "      <th>release_date</th>\n",
       "      <th></th>\n",
       "    </tr>\n",
       "  </thead>\n",
       "  <tbody>\n",
       "    <tr>\n",
       "      <th rowspan=\"5\" valign=\"top\">Action</th>\n",
       "      <th>1996</th>\n",
       "      <td>1.571429</td>\n",
       "    </tr>\n",
       "    <tr>\n",
       "      <th>1997</th>\n",
       "      <td>1.500000</td>\n",
       "    </tr>\n",
       "    <tr>\n",
       "      <th>1998</th>\n",
       "      <td>1.250000</td>\n",
       "    </tr>\n",
       "    <tr>\n",
       "      <th>1999</th>\n",
       "      <td>3.000000</td>\n",
       "    </tr>\n",
       "    <tr>\n",
       "      <th>2000</th>\n",
       "      <td>1.428571</td>\n",
       "    </tr>\n",
       "  </tbody>\n",
       "</table>\n",
       "</div>"
      ],
      "text/plain": [
       "                          mean\n",
       "                    popularity\n",
       "genres release_date           \n",
       "Action 1996           1.571429\n",
       "       1997           1.500000\n",
       "       1998           1.250000\n",
       "       1999           3.000000\n",
       "       2000           1.428571"
      ]
     },
     "execution_count": 48,
     "metadata": {},
     "output_type": "execute_result"
    }
   ],
   "source": [
    "#plot pivot table\n",
    "popularity_pivot= pd.pivot_table(genre_df,index=['genres','release_date'],values=[\"popularity\"],aggfunc=[np.mean])\n",
    "popularity_pivot.head()"
   ]
  },
  {
   "cell_type": "code",
   "execution_count": 49,
   "metadata": {},
   "outputs": [
    {
     "data": {
      "text/html": [
       "<div>\n",
       "<style scoped>\n",
       "    .dataframe tbody tr th:only-of-type {\n",
       "        vertical-align: middle;\n",
       "    }\n",
       "\n",
       "    .dataframe tbody tr th {\n",
       "        vertical-align: top;\n",
       "    }\n",
       "\n",
       "    .dataframe thead th {\n",
       "        text-align: right;\n",
       "    }\n",
       "</style>\n",
       "<table border=\"1\" class=\"dataframe\">\n",
       "  <thead>\n",
       "    <tr style=\"text-align: right;\">\n",
       "      <th>genres</th>\n",
       "      <th>Action</th>\n",
       "      <th>Adventure</th>\n",
       "      <th>Animation</th>\n",
       "      <th>Comedy</th>\n",
       "      <th>Drama</th>\n",
       "      <th>Horror</th>\n",
       "    </tr>\n",
       "    <tr>\n",
       "      <th>release_date</th>\n",
       "      <th></th>\n",
       "      <th></th>\n",
       "      <th></th>\n",
       "      <th></th>\n",
       "      <th></th>\n",
       "      <th></th>\n",
       "    </tr>\n",
       "  </thead>\n",
       "  <tbody>\n",
       "    <tr>\n",
       "      <th>1996</th>\n",
       "      <td>1.571429</td>\n",
       "      <td>2.00</td>\n",
       "      <td>1.0</td>\n",
       "      <td>1.166667</td>\n",
       "      <td>1.250000</td>\n",
       "      <td>1.0</td>\n",
       "    </tr>\n",
       "    <tr>\n",
       "      <th>1997</th>\n",
       "      <td>1.500000</td>\n",
       "      <td>1.50</td>\n",
       "      <td>2.0</td>\n",
       "      <td>1.000000</td>\n",
       "      <td>1.714286</td>\n",
       "      <td>1.0</td>\n",
       "    </tr>\n",
       "    <tr>\n",
       "      <th>1998</th>\n",
       "      <td>1.250000</td>\n",
       "      <td>1.00</td>\n",
       "      <td>2.0</td>\n",
       "      <td>2.333333</td>\n",
       "      <td>1.200000</td>\n",
       "      <td>1.5</td>\n",
       "    </tr>\n",
       "    <tr>\n",
       "      <th>1999</th>\n",
       "      <td>3.000000</td>\n",
       "      <td>1.80</td>\n",
       "      <td>1.0</td>\n",
       "      <td>1.000000</td>\n",
       "      <td>2.222222</td>\n",
       "      <td>1.0</td>\n",
       "    </tr>\n",
       "    <tr>\n",
       "      <th>2000</th>\n",
       "      <td>1.428571</td>\n",
       "      <td>1.25</td>\n",
       "      <td>1.0</td>\n",
       "      <td>1.000000</td>\n",
       "      <td>1.000000</td>\n",
       "      <td>1.0</td>\n",
       "    </tr>\n",
       "  </tbody>\n",
       "</table>\n",
       "</div>"
      ],
      "text/plain": [
       "genres          Action  Adventure  Animation    Comedy     Drama  Horror\n",
       "release_date                                                            \n",
       "1996          1.571429       2.00        1.0  1.166667  1.250000     1.0\n",
       "1997          1.500000       1.50        2.0  1.000000  1.714286     1.0\n",
       "1998          1.250000       1.00        2.0  2.333333  1.200000     1.5\n",
       "1999          3.000000       1.80        1.0  1.000000  2.222222     1.0\n",
       "2000          1.428571       1.25        1.0  1.000000  1.000000     1.0"
      ]
     },
     "execution_count": 49,
     "metadata": {},
     "output_type": "execute_result"
    }
   ],
   "source": [
    "#another way to plot pivot table, drop columns that have NA in them. This would leave us with primary genres only that have data.\n",
    "genre_pivot = genre_df.pivot_table('popularity',\n",
    "                     index='release_date',\n",
    "                     columns='genres',\n",
    "                     aggfunc='mean')\n",
    "genre_pivot = genre_pivot.dropna(axis='columns')\n",
    "genre_pivot.head()"
   ]
  },
  {
   "cell_type": "code",
   "execution_count": 64,
   "metadata": {},
   "outputs": [
    {
     "data": {
      "text/plain": [
       "Text(0.5,1,'Genre popularity (1996-2015)')"
      ]
     },
     "execution_count": 64,
     "metadata": {},
     "output_type": "execute_result"
    },
    {
     "data": {
      "image/png": "[encoded data removed]",
      "text/plain": [
       "<matplotlib.figure.Figure at 0x7f46a3341860>"
      ]
     },
     "metadata": {
      "needs_background": "light"
     },
     "output_type": "display_data"
    }
   ],
   "source": [
    "plt.rcParams['figure.figsize'] = [20, 10]\n",
    "genre_pivot.plot()\n",
    "plt.legend(fontsize=12)\n",
    "plt.ylabel('Popularity mean',fontsize = 15)\n",
    "plt.xlabel('Year of release',fontsize = 15)\n",
    "plt.title('Genre popularity (1996-2015)',fontsize = 18)"
   ]
  },
  {
   "cell_type": "markdown",
   "metadata": {},
   "source": [
    "Adventure has consistently been the popular choice between viewers while documentaries are the least popular. In the last couple of years. Action has seen the the largest increase in popularity due to popular movies such as Jurassic world, Mad Max and Guardians of the Galaxy."
   ]
  },
  {
   "cell_type": "code",
   "execution_count": 65,
   "metadata": {},
   "outputs": [
    {
     "data": {
      "text/html": [
       "<div>\n",
       "<style scoped>\n",
       "    .dataframe tbody tr th:only-of-type {\n",
       "        vertical-align: middle;\n",
       "    }\n",
       "\n",
       "    .dataframe tbody tr th {\n",
       "        vertical-align: top;\n",
       "    }\n",
       "\n",
       "    .dataframe thead th {\n",
       "        text-align: right;\n",
       "    }\n",
       "</style>\n",
       "<table border=\"1\" class=\"dataframe\">\n",
       "  <thead>\n",
       "    <tr style=\"text-align: right;\">\n",
       "      <th></th>\n",
       "      <th>popularity</th>\n",
       "      <th>original_title</th>\n",
       "      <th>genres</th>\n",
       "      <th>release_date</th>\n",
       "      <th>vote_average</th>\n",
       "      <th>budget_adj</th>\n",
       "      <th>revenue_adj</th>\n",
       "    </tr>\n",
       "  </thead>\n",
       "  <tbody>\n",
       "    <tr>\n",
       "      <th>0</th>\n",
       "      <td>32.99</td>\n",
       "      <td>Jurassic World</td>\n",
       "      <td>Action</td>\n",
       "      <td>6/9/15</td>\n",
       "      <td>6.5</td>\n",
       "      <td>138.0</td>\n",
       "      <td>1392.0</td>\n",
       "    </tr>\n",
       "    <tr>\n",
       "      <th>1</th>\n",
       "      <td>28.42</td>\n",
       "      <td>Mad Max: Fury Road</td>\n",
       "      <td>Action</td>\n",
       "      <td>5/13/15</td>\n",
       "      <td>7.1</td>\n",
       "      <td>138.0</td>\n",
       "      <td>348.0</td>\n",
       "    </tr>\n",
       "    <tr>\n",
       "      <th>630</th>\n",
       "      <td>14.31</td>\n",
       "      <td>Guardians of the Galaxy</td>\n",
       "      <td>Action</td>\n",
       "      <td>7/30/14</td>\n",
       "      <td>7.9</td>\n",
       "      <td>157.0</td>\n",
       "      <td>712.0</td>\n",
       "    </tr>\n",
       "    <tr>\n",
       "      <th>631</th>\n",
       "      <td>12.97</td>\n",
       "      <td>Captain America: The Winter Soldier</td>\n",
       "      <td>Action</td>\n",
       "      <td>3/20/14</td>\n",
       "      <td>7.6</td>\n",
       "      <td>157.0</td>\n",
       "      <td>658.0</td>\n",
       "    </tr>\n",
       "    <tr>\n",
       "      <th>632</th>\n",
       "      <td>11.42</td>\n",
       "      <td>John Wick</td>\n",
       "      <td>Action</td>\n",
       "      <td>10/22/14</td>\n",
       "      <td>7.0</td>\n",
       "      <td>18.0</td>\n",
       "      <td>73.0</td>\n",
       "    </tr>\n",
       "  </tbody>\n",
       "</table>\n",
       "</div>"
      ],
      "text/plain": [
       "     popularity                       original_title  genres release_date  \\\n",
       "0         32.99                       Jurassic World  Action       6/9/15   \n",
       "1         28.42                   Mad Max: Fury Road  Action      5/13/15   \n",
       "630       14.31              Guardians of the Galaxy  Action      7/30/14   \n",
       "631       12.97  Captain America: The Winter Soldier  Action      3/20/14   \n",
       "632       11.42                            John Wick  Action     10/22/14   \n",
       "\n",
       "     vote_average  budget_adj  revenue_adj  \n",
       "0             6.5       138.0       1392.0  \n",
       "1             7.1       138.0        348.0  \n",
       "630           7.9       157.0        712.0  \n",
       "631           7.6       157.0        658.0  \n",
       "632           7.0        18.0         73.0  "
      ]
     },
     "execution_count": 65,
     "metadata": {},
     "output_type": "execute_result"
    }
   ],
   "source": [
    "#shows us the top rated action movies\n",
    "movies[movies['genres']=='Action'].sort_values('popularity',ascending = False).head(5)"
   ]
  },
  {
   "cell_type": "markdown",
   "metadata": {},
   "source": [
    "### Conclusion\n",
    "\n",
    "#### Findings\n",
    "This project found no relationship between budget and revenue. On average, movies released in december accrued the highest vote. There is some confusion as to the difference between vote_average and popularity, so we have used both measures. We used vote_average when comparing release_dates and popularity when comparing popularity in a time series view. Action movies are found to be consistently popular. On the other hand, Documentaries are the least popular. This was based on the assumption that the first genre in the column 'genres' was the primary genre. \n",
    "\n",
    "#### Possible questions\n",
    "It would be interesting to do a deeper analysis on highest grossing actors and successful directors. Analysis of content spend by the different production studios and their success rate measured by popularity would also be another interesting analysis.\n",
    "\n",
    "#### Limitations\n",
    "The columns included null values which greatly reduced the sample size, and and subsequently the reliability of the analysis due to the smaller sample size. These null values were taken out before analysing the data. Insufficient clarity on the difference between vote_average and popularity makes the results unclear. "
   ]
  },
  {
   "cell_type": "code",
   "execution_count": 4,
   "metadata": {},
   "outputs": [
    {
     "data": {
      "text/plain": [
       "0"
      ]
     },
     "execution_count": 4,
     "metadata": {},
     "output_type": "execute_result"
    }
   ],
   "source": [
    "from subprocess import call\n",
    "call(['python', '-m', 'nbconvert', 'Investigate_a_Dataset.ipynb'])"
   ]
  },
  {
   "cell_type": "code",
   "execution_count": null,
   "metadata": {},
   "outputs": [],
   "source": []
  }
 ],
 "metadata": {
  "kernelspec": {
   "display_name": "Python 3",
   "language": "python",
   "name": "python3"
  },
  "language_info": {
   "codemirror_mode": {
    "name": "ipython",
    "version": 3
   },
   "file_extension": ".py",
   "mimetype": "text/x-python",
   "name": "python",
   "nbconvert_exporter": "python",
   "pygments_lexer": "ipython3",
   "version": "3.6.3"
  }
 },
 "nbformat": 4,
 "nbformat_minor": 2
}
